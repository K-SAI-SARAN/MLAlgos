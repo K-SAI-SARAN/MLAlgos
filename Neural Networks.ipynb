{
 "cells": [
  {
   "cell_type": "markdown",
   "id": "36db8ddf",
   "metadata": {},
   "source": [
    "## Neural Networks Model"
   ]
  },
  {
   "cell_type": "code",
   "execution_count": 1,
   "id": "c180b32b",
   "metadata": {},
   "outputs": [],
   "source": [
    "class Layers:\n",
    "\n",
    "    def __init__(self, activation_function_forward, activation_function_backward, count_output_neuron, no_of_inputs, seed):\n",
    "        self.activation_function_forward = activation_function_forward      # the forward activation function\n",
    "        self.activation_function_backward = activation_function_backward    # the corresponding backward activation function\n",
    "        self.count_output_neuron = count_output_neuron                  # taking the number of output neurons as a paramter\n",
    "        self.no_of_inputs = no_of_inputs                                # taking the number of inputs for a given layer\n",
    "        #self.X_train = X_train                                          # Training data X\n",
    "        self.seed = seed                                        # seed parameter\n",
    "        np.random.rand(seed)    # seed is used to maintain the same set of random values generated elsewhere in the class\n",
    "\n",
    "\n",
    "        self.W = np.random.rand(no_of_inputs, count_output_neuron)\n",
    "        self.bias = np.random.rand(count_output_neuron)\n",
    "\n",
    "\n",
    "    def updateWeightGradient(self, dW, alpha):      # updating weights of the current layer to pass for the next layer\n",
    "        self.W = self.W - alpha * dW\n",
    "\n",
    "    def updateBiasGradient(self, dbias, alpha):     # updating bias of the current layer to pass for the next layer\n",
    "        self.bias = self.bias - alpha * dbias\n",
    "\n",
    "\n",
    "    # activate function which takes X as input and returns after activation function is called on (WX + B) matrix\n",
    "    def activate(self, curr_input):\n",
    "        self.curr_input = curr_input\n",
    "        N = np.matmul(curr_input, self.W)\n",
    "        P = N + self.bias\n",
    "\n",
    "        self.curr_output = self.activation_function_forward(P)\n",
    "        return self.curr_output\n",
    "    "
   ]
  },
  {
   "cell_type": "code",
   "execution_count": 2,
   "id": "7538e82e",
   "metadata": {},
   "outputs": [],
   "source": [
    "class NeuralNetwork:\n",
    "    def __init__(self, list_of_layers, loss, seed):\n",
    "        self.list_of_layers = list_of_layers        # list of layers objects\n",
    "        self.loss = loss                # loss object\n",
    "        self.seed = seed\n",
    "        np.random.seed(seed)\n",
    "\n",
    "\n",
    "    # In the forward pass of neural network, we pass through all the layers such that output of current layer is the input for the next layer.\n",
    "    # Finally, we return the output of the last layer\n",
    "    def forward(self, X):\n",
    "        curr_input = X\n",
    "        for curr_layer in self.list_of_layers:\n",
    "            next_input = curr_layer.activate(curr_input)\n",
    "            curr_input = next_input\n",
    "\n",
    "        output = curr_input\n",
    "\n",
    "        output = np.array(output)\n",
    "        return output\n",
    "\n",
    "    # In the backward pass, we calcuate the error generated and also reverse traverse the layers and calculate the effect of loss w.r.t input X\n",
    "    def backward(self, X, y_true, alpha):\n",
    "        output = self.forward(X)\n",
    "\n",
    "        error = self.loss.lossLayer_forward(output, y_true)   # calculating loss in forward pass\n",
    "        dL_dA = self.loss.lossLayer_backward(output, y_true)    # calculating loss in backward pass\n",
    "\n",
    "        weights = []    # store the weights of each layer so as to calculate optimal weights\n",
    "        bias = []       # store the bias of each layer so as to calculate optimal bias\n",
    "\n",
    "        for curr_layer in reversed(self.list_of_layers):\n",
    "\n",
    "            dL_dP = curr_layer.activation_function_backward(curr_layer.curr_output, dL_dA)\n",
    "\n",
    "            curr_layer.curr_input = np.array(curr_layer.curr_input)\n",
    "\n",
    "            dW = np.matmul(curr_layer.curr_input.T, dL_dP)  # taking transpose\n",
    "            dbias = np.sum(dL_dP)\n",
    "\n",
    "            weights.append(curr_layer.W)\n",
    "            bias.append(curr_layer.bias)\n",
    "\n",
    "            curr_layer.updateWeightGradient(dW, alpha)\n",
    "            curr_layer.updateBiasGradient(dbias, alpha)\n",
    "\n",
    "            dL_dX = np.matmul(dL_dP, curr_layer.W.T)\n",
    "            dL_dA = dL_dX\n",
    "        return error,bias,weights\n",
    "\n",
    "        # In this fucntion, we perform the entire procedure for several number of iterations and finally return error, weights, bias\n",
    "    def SGD(self, X_train, y_train, X_test, y_test, loss):  # Stochastic Gradient Descent Algorithm\n",
    "        arr = []\n",
    "        iter = 10000\n",
    "        graph_X = []\n",
    "        graph_Y = []\n",
    "        for i in range(iter):\n",
    "            temp = []\n",
    "            error,bias,weights = self.backward(X_train, Y_train, 0.001)\n",
    "            #print('Error = ',error)\n",
    "            temp.append(error)\n",
    "            temp.append(bias)\n",
    "            temp.append(weights)\n",
    "            arr.append(temp)\n",
    "            graph_X.append(i)\n",
    "            graph_Y.append(error)\n",
    "            if i % 1000 == 0:\n",
    "\n",
    "                print(f'Error at iteration {i}: {error}')\n",
    "\n",
    "        # Evaluate\n",
    "\n",
    "        return arr,graph_X,graph_Y"
   ]
  },
  {
   "cell_type": "code",
   "execution_count": 3,
   "id": "eada92c8",
   "metadata": {},
   "outputs": [],
   "source": [
    "# This is mean square error class that calculates error in both forward and backward passes\n",
    "class mean_square_error:\n",
    "\n",
    "    def lossLayer_forward(self,P,Y):\n",
    "        return np.mean((P - Y.reshape(-1, 1)) ** 2)\n",
    "\n",
    "    def lossLayer_backward(self,P,Y): #sizes of both P and Y  = nx1\n",
    "\n",
    "        nSamples = len(Y)\n",
    "        dL_dA = np.zeros((nSamples,1))\n",
    "        for i in range(nSamples):\n",
    "            dL_dA[i][0] = (2*(P[i][0] - Y[i])) / nSamples\n",
    "\n",
    "        return dL_dA  # returning dL/dP\n",
    "\n",
    "        #return P-Y"
   ]
  },
  {
   "cell_type": "code",
   "execution_count": 4,
   "id": "ef3387b8",
   "metadata": {},
   "outputs": [],
   "source": [
    "class cross_entropy_loss:\n",
    "    def lossLayer_forward(self,P,Y):\n",
    "        P = np.exp(P)\n",
    "        P /= np.sum(P, axis=-1, keepdims=True)\n",
    "        loss = -np.sum(Y * np.log(P))\n",
    "        return loss\n",
    "\n",
    "    def lossLayer_backward(self,P,Y):    #sizes of both P and Y  = nxc\n",
    "        P = np.exp(P)\n",
    "        #output -= np.max(output, axis=-1, keepdims=True)[0][0]\n",
    "        P /= np.sum(P, axis=-1, keepdims=True)\n",
    "        return P - Y"
   ]
  },
  {
   "cell_type": "code",
   "execution_count": 5,
   "id": "91f601fa",
   "metadata": {},
   "outputs": [],
   "source": [
    "# Implementations of several activation functions in both forward and backward passes\n",
    "\n",
    "def linear_forward(P):\n",
    "    return P\n",
    "\n",
    "def linear_backward(P, dL_dA):\n",
    "    shape = P.shape\n",
    "    return dL_dA * np.ones(shape)\n",
    "\n",
    "\n",
    "def sigmoid_forward(x):\n",
    "        ans = 1 / (1 + np.exp(-x))\n",
    "        return ans\n",
    "\n",
    "def sigmoidLayer_forward(P):\n",
    "    ans=[]\n",
    "    for i in P:\n",
    "        new = sigmoid_forward(i)\n",
    "        ans.append(new)\n",
    "    return ans\n",
    "\n",
    "def sigmoidLayer_backward(P, dL_dA):\n",
    "        dL_dP = []\n",
    "        index = 0\n",
    "        for i in P:\n",
    "            new = sigmoid_forward(i)\n",
    "            dL_dP.append(dL_dA[index] * (new * (1 - new)))  # dL/dP = dL/dA * sigmoid(P) * (1 - sigmoid(P))\n",
    "            index += 1\n",
    "        dL_dP = np.array(dL_dP)\n",
    "        return dL_dP\n",
    "def tanhLayer_forward(P):\n",
    "    return np.tanh(P)\n",
    "    '''\n",
    "    ans=[]\n",
    "    for i in P:\n",
    "        new = tanh_forward(i)\n",
    "        ans.append(new)\n",
    "    return ans\n",
    "    '''\n",
    "\n",
    "def tanhLayer_backward(P, dL_dA):\n",
    "    return dL_dA * (1 - np.tanh(P) ** 2)\n",
    "\n",
    "    '''\n",
    "    dL_dP = []\n",
    "    index = 0\n",
    "    for i in P:\n",
    "        new = tanh_forward(2*i)  # i don't think this is correct\n",
    "        dL_dP.append(dL_dA[index] * 4 * (1 - new))\n",
    "        index += 1\n",
    "    dL_dP = np.array(dL_dP)\n",
    "    return dL_dP\n",
    "    '''"
   ]
  },
  {
   "cell_type": "code",
   "execution_count": 6,
   "id": "8165178a",
   "metadata": {},
   "outputs": [],
   "source": [
    "# Calculating the accuracy of the model\n",
    "\n",
    "\n",
    "def test_model(list_of_layers, X_test, Y_test, threshold):\n",
    "    accuracy = 0\n",
    "    curr_X = X_test\n",
    "\n",
    "    for i in range(len(Y_test)):\n",
    "        N = np.matmul(curr_X[i], opt_weights[0])\n",
    "        P = N + opt_bias[0]\n",
    "        for j in range(len(list_of_layers)):\n",
    "            output = list_of_layers[j].activation_function_forward(P)\n",
    "            P = output\n",
    "\n",
    "        if(abs(output[0] - Y_test[i]) <= threshold):\n",
    "            accuracy += 1\n",
    "\n",
    "    print(\"Accuracy =\",100.0*accuracy/len(Y_test), \"%\")"
   ]
  },
  {
   "cell_type": "markdown",
   "id": "9b0407b6",
   "metadata": {},
   "source": [
    "### Running the model on the California dataset\n"
   ]
  },
  {
   "cell_type": "code",
   "execution_count": 7,
   "id": "0e8148b4",
   "metadata": {},
   "outputs": [],
   "source": [
    "import numpy as np\n",
    "import pandas as pd\n",
    "import matplotlib.pyplot as plt\n",
    "\n",
    "from sklearn.datasets import fetch_california_housing\n",
    "from sklearn.model_selection import train_test_split\n",
    "california = fetch_california_housing()"
   ]
  },
  {
   "cell_type": "code",
   "execution_count": 8,
   "id": "ab714d56",
   "metadata": {},
   "outputs": [
    {
     "name": "stdout",
     "output_type": "stream",
     "text": [
      "(20640, 8)\n",
      "(20640,)\n"
     ]
    }
   ],
   "source": [
    "X = california.data\n",
    "print(X.shape)\n",
    "\n",
    "Y = california.target\n",
    "print(Y.shape)"
   ]
  },
  {
   "cell_type": "markdown",
   "id": "86ebb0cf",
   "metadata": {},
   "source": [
    "Just one output neural with linear activation and least mean square loss. (This is linear regression)."
   ]
  },
  {
   "cell_type": "code",
   "execution_count": 10,
   "id": "382e5f38",
   "metadata": {},
   "outputs": [
    {
     "name": "stdout",
     "output_type": "stream",
     "text": [
      "Error at iteration 0: 3.291508525599838\n",
      "Error at iteration 1000: 0.6961741158766115\n",
      "Error at iteration 2000: 0.596254579563981\n",
      "Error at iteration 3000: 0.541027721881347\n",
      "Error at iteration 4000: 0.5013777714438358\n",
      "Error at iteration 5000: 0.47227916920844526\n",
      "Error at iteration 6000: 0.45083603140875955\n",
      "Error at iteration 7000: 0.43499272213132995\n",
      "Error at iteration 8000: 0.4232551370935085\n",
      "Error at iteration 9000: 0.4145336133368976\n",
      "min error =  0.4080378922291242\n",
      "Mean Squared Error: 1.5329478531347929\n"
     ]
    },
    {
     "data": {
      "image/png": "[encoded data removed]",
      "text/plain": [
       "<Figure size 640x480 with 1 Axes>"
      ]
     },
     "metadata": {},
     "output_type": "display_data"
    }
   ],
   "source": [
    "# Normalizing the data\n",
    "X = (X - np.mean(X, axis = 0)) / (np.std(X, axis = 0))\n",
    "Y = (Y - np.mean(Y, axis = 0)) / (np.std(Y, axis = 0))\n",
    "\n",
    "# Spliting the data with 85% into training and 15% into testing\n",
    "X_train, X_test, Y_train, Y_test = train_test_split(X, Y, test_size=0.15, random_state = 30)\n",
    "\n",
    "#print(Y_test.shape)\n",
    "seed = 21\n",
    "\n",
    "layer1 = Layers(linear_forward, linear_backward, 1, X_train.shape[1], seed)   # creating layers object\n",
    "list_of_layers = [layer1]   # creating layers list\n",
    "\n",
    "loss_obj = mean_square_error()  # creating loss object\n",
    "\n",
    "NN_obj = NeuralNetwork(list_of_layers, loss_obj, seed)  # creating neural networks object\n",
    "\n",
    "\n",
    "J, graph_X, graph_Y = NN_obj.SGD(X_train, Y_train, X_test, Y_test, loss_obj)    # calling SGD function in NeuralNetwork class\n",
    "min_error = 1000000000\n",
    "\n",
    "# Calculating the min error among the total samples\n",
    "for i in range(len(J)):\n",
    "    if(J[i][0] <= min_error):\n",
    "      #optimum\n",
    "        opt_weights = J[i][2]\n",
    "        opt_bias = J[i][1]\n",
    "        min_error = J[i][0]\n",
    "\n",
    "print(\"min error = \",min_error)\n",
    "\n",
    "Y_pred = NN_obj.forward(X_test)\n",
    "mean_sqr_error = loss_obj.lossLayer_forward(Y_test, Y_pred)\n",
    "print(\"Mean Squared Error:\", mean_sqr_error)\n",
    "\n",
    "plt.plot(graph_X, graph_Y)\n",
    "plt.xlabel(\"Epoch\")\n",
    "plt.ylabel(\"Error\")\n",
    "plt.show()"
   ]
  },
  {
   "cell_type": "code",
   "execution_count": 11,
   "id": "7749f7a0",
   "metadata": {},
   "outputs": [
    {
     "name": "stdout",
     "output_type": "stream",
     "text": [
      "R-squared value: 0.5612339918594368\n"
     ]
    }
   ],
   "source": [
    "from sklearn.metrics import r2_score\n",
    "y_pred = NN_obj.forward(X_test)\n",
    "r_squared = r2_score(Y_test, y_pred)\n",
    "print(f'R-squared value: {r_squared}')"
   ]
  },
  {
   "cell_type": "code",
   "execution_count": 12,
   "id": "dccd31d2",
   "metadata": {},
   "outputs": [
    {
     "name": "stdout",
     "output_type": "stream",
     "text": [
      "Accuracy = 89.98708010335918 %\n"
     ]
    }
   ],
   "source": [
    "# Testing the accuracy of the model\n",
    "test_model(list_of_layers, X_test, Y_test, 1)"
   ]
  },
  {
   "cell_type": "markdown",
   "id": "8ac59cc4",
   "metadata": {},
   "source": [
    "Two layers. Layer 1 with 13 output neurons with sigmoid activation. Layer 2 with one output neuron and linear activation. use mean squared loss"
   ]
  },
  {
   "cell_type": "code",
   "execution_count": 9,
   "id": "f8dc5f50",
   "metadata": {},
   "outputs": [
    {
     "name": "stdout",
     "output_type": "stream",
     "text": [
      "Error at iteration 0: 19.831775140060678\n",
      "Error at iteration 1000: 0.7830524815857421\n",
      "Error at iteration 2000: 0.6816054571844828\n",
      "Error at iteration 3000: 0.6105934655214222\n",
      "Error at iteration 4000: 0.5599956627502964\n",
      "Error at iteration 5000: 0.5244518464261341\n",
      "Error at iteration 6000: 0.499774197013099\n",
      "Error at iteration 7000: 0.4824574671692215\n",
      "Error at iteration 8000: 0.4698716478775235\n",
      "Error at iteration 9000: 0.46027363549257766\n",
      "min error =  0.4526088814812856\n",
      "Mean Squared Error: 1.5321660123404486\n"
     ]
    },
    {
     "data": {
      "image/png": "[encoded data removed]",
      "text/plain": [
       "<Figure size 640x480 with 1 Axes>"
      ]
     },
     "metadata": {},
     "output_type": "display_data"
    }
   ],
   "source": [
    "# Normalizing the data\n",
    "X = (X - np.mean(X, axis = 0)) / (np.std(X, axis = 0))\n",
    "Y = (Y - np.mean(Y, axis = 0)) / (np.std(Y, axis = 0))\n",
    "\n",
    "# Spliting the data with 85% into training and 15% into testing\n",
    "X_train, X_test, Y_train, Y_test = train_test_split(X, Y, test_size=0.15, random_state = 30)\n",
    "\n",
    "#print(Y_test.shape)\n",
    "seed = 21\n",
    "\n",
    "layer1 = Layers(sigmoidLayer_forward, sigmoidLayer_backward, 13, X_train.shape[1], seed)   # creating layers object\n",
    "layer2 = Layers(linear_forward, linear_backward, 1, 13, seed)   # creating layers object\n",
    "list_of_layers = [layer1, layer2]   # creating layers list\n",
    "\n",
    "loss_obj = mean_square_error()  # creating loss object\n",
    "\n",
    "NN_obj = NeuralNetwork(list_of_layers, loss_obj, seed)  # creating neural networks object\n",
    "\n",
    "\n",
    "J, graph_X, graph_Y = NN_obj.SGD(X_train, Y_train, X_test, Y_test, loss_obj)    # calling SGD function in NeuralNetwork class\n",
    "min_error = 1000000000\n",
    "\n",
    "# Calculating the min error among the total samples\n",
    "for i in range(len(J)):\n",
    "    if(J[i][0] <= min_error):\n",
    "      #optimum\n",
    "        opt_weights = J[i][2]\n",
    "        opt_bias = J[i][1]\n",
    "        min_error = J[i][0]\n",
    "print(\"min error = \",min_error)\n",
    "\n",
    "Y_pred = NN_obj.forward(X_test)\n",
    "mean_sqr_error = loss_obj.lossLayer_forward(Y_test, Y_pred)\n",
    "print(\"Mean Squared Error:\", mean_sqr_error)\n",
    "\n",
    "plt.plot(graph_X, graph_Y)\n",
    "plt.xlabel(\"Epoch\")\n",
    "plt.ylabel(\"Error\")\n",
    "plt.show()"
   ]
  },
  {
   "cell_type": "code",
   "execution_count": 11,
   "id": "be6ff3ef",
   "metadata": {},
   "outputs": [
    {
     "name": "stdout",
     "output_type": "stream",
     "text": [
      "Error at iteration 0: 66.99912691836009\n",
      "Error at iteration 1000: 0.9700726660488248\n",
      "Error at iteration 2000: 0.9665550445129524\n",
      "Error at iteration 3000: 0.9630704086233826\n",
      "Error at iteration 4000: 0.9594317869388951\n",
      "Error at iteration 5000: 0.9554473130976114\n",
      "Error at iteration 6000: 0.9509092431591707\n",
      "Error at iteration 7000: 0.9455823168453765\n",
      "Error at iteration 8000: 0.9391906639447001\n",
      "Error at iteration 9000: 0.9314028630320218\n",
      "min error =  0.9218264588537818\n",
      "Mean Squared Error: 1.0485937938326297\n"
     ]
    },
    {
     "data": {
      "image/png": "[encoded data removed]",
      "text/plain": [
       "<Figure size 640x480 with 1 Axes>"
      ]
     },
     "metadata": {},
     "output_type": "display_data"
    }
   ],
   "source": [
    "# Normalizing the data\n",
    "X = (X - np.mean(X, axis = 0)) / (np.std(X, axis = 0))\n",
    "Y = (Y - np.mean(Y, axis = 0)) / (np.std(Y, axis = 0))\n",
    "\n",
    "# Spliting the data with 85% into training and 15% into testing\n",
    "X_train, X_test, Y_train, Y_test = train_test_split(X, Y, test_size=0.15, random_state = 30)\n",
    "\n",
    "#print(Y_test.shape)\n",
    "seed = 21\n",
    "\n",
    "layer1 = Layers(sigmoidLayer_forward, sigmoidLayer_backward, 13, X_train.shape[1], seed)   # creating layers object\n",
    "layer2 = Layers(sigmoidLayer_forward, sigmoidLayer_backward, 13, 13, seed)   # creating layers object\n",
    "layer3 = Layers(linear_forward, linear_backward, 1, 13, seed)   # creating layers object\n",
    "list_of_layers = [layer1, layer2, layer3]\n",
    "\n",
    "loss_obj = mean_square_error()  # creating loss object\n",
    "\n",
    "NN_obj = NeuralNetwork(list_of_layers, loss_obj, seed)  # creating neural networks object\n",
    "\n",
    "\n",
    "J, graph_X, graph_Y = NN_obj.SGD(X_train, Y_train, X_test, Y_test, loss_obj)    # calling SGD function in NeuralNetwork class\n",
    "min_error = 1000000000\n",
    "\n",
    "# Calculating the min error among the total samples\n",
    "for i in range(len(J)):\n",
    "    if(J[i][0] <= min_error):\n",
    "        opt_weights = J[i][2]\n",
    "        opt_bias = J[i][1]\n",
    "        min_error = J[i][0]\n",
    "\n",
    "print(\"min error = \",min_error)\n",
    "\n",
    "Y_pred = NN_obj.forward(X_test)\n",
    "mean_sqr_error = loss_obj.lossLayer_forward(Y_test, Y_pred)\n",
    "print(\"Mean Squared Error:\", mean_sqr_error)\n",
    "\n",
    "plt.plot(graph_X, graph_Y)\n",
    "plt.xlabel(\"Epoch\")\n",
    "plt.ylabel(\"Error\")\n",
    "plt.show()"
   ]
  }
 ],
 "metadata": {
  "kernelspec": {
   "display_name": "Python 3 (ipykernel)",
   "language": "python",
   "name": "python3"
  },
  "language_info": {
   "codemirror_mode": {
    "name": "ipython",
    "version": 3
   },
   "file_extension": ".py",
   "mimetype": "text/x-python",
   "name": "python",
   "nbconvert_exporter": "python",
   "pygments_lexer": "ipython3",
   "version": "3.10.9"
  }
 },
 "nbformat": 4,
 "nbformat_minor": 5
}
